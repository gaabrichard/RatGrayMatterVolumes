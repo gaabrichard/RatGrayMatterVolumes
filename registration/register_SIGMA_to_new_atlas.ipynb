{
 "cells": [
  {
   "cell_type": "code",
   "execution_count": 1,
   "id": "27f01d22-3e9f-456c-884a-cc731b13e0e5",
   "metadata": {},
   "outputs": [],
   "source": [
    "import os\n",
    "import shutil\n",
    "import ants"
   ]
  },
  {
   "cell_type": "code",
   "execution_count": 2,
   "id": "9453bbb6-e9d5-44d5-b0c3-7769f3f27b8b",
   "metadata": {},
   "outputs": [],
   "source": [
    "moving_path = '../data/SigmaAtlas_resized/Sigma_Atlas_mask_resized.nii.gz'\n",
    "fixed_path = '../data/WHS_SD_rat_atlas_v4_pack/WHS_Atlas_mask_resized.nii.gz'\n",
    "root_maps = '../data/tissue_maps'"
   ]
  },
  {
   "cell_type": "markdown",
   "id": "36302897-e872-4b55-87e2-10bb018a71f4",
   "metadata": {},
   "source": [
    "### Register the SIGMA atlas to the WHS atlas"
   ]
  },
  {
   "cell_type": "code",
   "execution_count": 3,
   "id": "172e96f6-2dd7-45bd-82b3-ef2bd327392a",
   "metadata": {},
   "outputs": [],
   "source": [
    "moving_img = ants.image_read(moving_path)\n",
    "fixed_img = ants.image_read(fixed_path)"
   ]
  },
  {
   "cell_type": "code",
   "execution_count": 7,
   "id": "db9fc9f9-34e1-416b-a708-1edce39fb269",
   "metadata": {},
   "outputs": [],
   "source": [
    "out_tx = os.path.join(os.path.dirname(fixed_path), 'tx_')\n",
    "tx = ants.registration(fixed=fixed_img, moving=moving_img, type_of_transform='Affine', outprefix=out_tx)\n",
    "warped_moving = ants.apply_transforms(fixed=fixed_img, moving=moving_img, transformlist=tx['fwdtransforms'])\n",
    "ants.image_write(warped_moving, '../data/SigmaAtlas_resized/sigma_reg.nii.gz')"
   ]
  },
  {
   "cell_type": "markdown",
   "id": "4f35bcd5-d43e-4304-a2dc-9a7d555f1367",
   "metadata": {},
   "source": [
    "### Register all the segmentations to WHS space"
   ]
  },
  {
   "cell_type": "code",
   "execution_count": 10,
   "id": "6d37b65a-9b6d-48af-8897-6d5c4a2cebc4",
   "metadata": {},
   "outputs": [
    {
     "name": "stdout",
     "output_type": "stream",
     "text": [
      "processing file GM-SIGMA-rat3b-2-exVivo.nii.gz\n",
      "processing file GM-SIGMA-modulated-rat3b-2-exVivo.nii.gz\n",
      "processing file WM-SIGMA-modulated-rat3b-2-exVivo.nii.gz\n",
      "processing file WM-SIGMA-rat3b-2-exVivo.nii.gz\n",
      "processing file GM-SIGMA-Rat3b-1-exVivo.nii.gz\n",
      "processing file WM-SIGMA-modulated-Rat3b-1-exVivo.nii.gz\n",
      "processing file WM-SIGMA-Rat3b-1-exVivo.nii.gz\n",
      "processing file GM-SIGMA-modulated-Rat3b-1-exVivo.nii.gz\n",
      "processing file GM-SIGMA-modulated-20230224_t2star_02_SNIpost_Exp2.nii.gz\n",
      "processing file WM-SIGMA-20230224_t2star_02_SNIpost_Exp2.nii.gz\n",
      "processing file GM-SIGMA-20230224_t2star_02_SNIpost_Exp2.nii.gz\n",
      "processing file WM-SIGMA-modulated-20230224_t2star_02_SNIpost_Exp2.nii.gz\n",
      "processing file GM-SIGMA-20230125_t2star_02_SNIpre_Exp2.nii.gz\n",
      "processing file GM-SIGMA-modulated-20230125_t2star_02_SNIpre_Exp2.nii.gz\n",
      "processing file WM-SIGMA-20230125_t2star_02_SNIpre_Exp2.nii.gz\n",
      "processing file WM-SIGMA-modulated-20230125_t2star_02_SNIpre_Exp2.nii.gz\n"
     ]
    }
   ],
   "source": [
    "transform_path = '../data/WHS_SD_rat_atlas_v4_pack/tx_0GenericAffine.mat'\n",
    "for root, _, files in os.walk(root_maps):\n",
    "    for name in files:\n",
    "        print(f'processing file {name}')\n",
    "        seg_path = os.path.join(root, name)\n",
    "        out_path = os.path.join(root, 'w2_'+ name)\n",
    "        moving_seg = ants.image_read(seg_path)\n",
    "        warped_seg = ants.apply_transforms(fixed=fixed_img, moving=moving_seg, transformlist=transform_path)\n",
    "        ants.image_write(warped_seg, out_path)"
   ]
  },
  {
   "cell_type": "markdown",
   "id": "8c8212a1-b1cb-4e66-8691-429b53cfb3c0",
   "metadata": {},
   "source": [
    "### Sort registered images to different folders"
   ]
  },
  {
   "cell_type": "code",
   "execution_count": 11,
   "id": "5ef96134-869d-41db-83b5-167059e22d7a",
   "metadata": {},
   "outputs": [],
   "source": [
    "WM_modulated_dir = os.path.join('../data/registered_tissues/WM_modulated')\n",
    "os.makedirs(WM_modulated_dir, exist_ok = True)\n",
    "\n",
    "GM_modulated_dir = os.path.join('../data/registered_tissues/GM_modulated')\n",
    "os.makedirs(GM_modulated_dir, exist_ok = True)\n",
    "\n",
    "WM_unmodulated_dir = os.path.join('../data/registered_tissues/WM_unmodulated')\n",
    "os.makedirs(WM_unmodulated_dir, exist_ok = True)\n",
    "\n",
    "GM_unmodulated_dir = os.path.join('../data/registered_tissues/GM_unmodulated')\n",
    "os.makedirs(GM_unmodulated_dir, exist_ok = True)\n"
   ]
  },
  {
   "cell_type": "code",
   "execution_count": 12,
   "id": "f233ba12-684f-4fc0-91eb-b4a186a14732",
   "metadata": {},
   "outputs": [],
   "source": [
    "for root, _, files in os.walk(root_maps):\n",
    "    for name in files:\n",
    "        if 'w2_WM-SIGMA-modulated' in name:\n",
    "            shutil.move(os.path.join(root,name), WM_modulated_dir)\n",
    "        elif 'w2_GM-SIGMA-modulated' in name:\n",
    "            shutil.move(os.path.join(root,name), GM_modulated_dir)\n",
    "        elif 'w2_WM-SIGMA' in name:\n",
    "            shutil.move(os.path.join(root,name), WM_unmodulated_dir)\n",
    "        elif 'w2_GM-SIGMA' in name:\n",
    "            shutil.move(os.path.join(root,name), GM_unmodulated_dir)"
   ]
  },
  {
   "cell_type": "code",
   "execution_count": null,
   "id": "c5f18f05-2158-4785-8c7c-e98b1fea8de2",
   "metadata": {},
   "outputs": [],
   "source": []
  }
 ],
 "metadata": {
  "kernelspec": {
   "display_name": "Python 3 (ipykernel)",
   "language": "python",
   "name": "python3"
  },
  "language_info": {
   "codemirror_mode": {
    "name": "ipython",
    "version": 3
   },
   "file_extension": ".py",
   "mimetype": "text/x-python",
   "name": "python",
   "nbconvert_exporter": "python",
   "pygments_lexer": "ipython3",
   "version": "3.13.7"
  }
 },
 "nbformat": 4,
 "nbformat_minor": 5
}
