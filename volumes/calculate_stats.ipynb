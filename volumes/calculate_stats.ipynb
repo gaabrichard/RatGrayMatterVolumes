{
 "cells": [
  {
   "cell_type": "code",
   "execution_count": 1,
   "id": "ce38c38b-26f7-4fa8-8646-83e7fd1ad3b8",
   "metadata": {},
   "outputs": [],
   "source": [
    "import ants\n",
    "import os\n",
    "import pandas as pd\n",
    "from tqdm import tqdm"
   ]
  },
  {
   "cell_type": "markdown",
   "id": "0c5c12de-dce2-407b-ae84-67c4f82f9791",
   "metadata": {},
   "source": [
    "### Load atlas and labels"
   ]
  },
  {
   "cell_type": "code",
   "execution_count": 2,
   "id": "135d6472-9c06-4e70-a40e-899d2d294593",
   "metadata": {},
   "outputs": [],
   "source": [
    "atlas = ants.image_read('../data/WHS_SD_rat_atlas_v4_pack/WHS_SD_rat_atlas_v4_resized_L_v_R.nii.gz')\n",
    "labels = pd.read_csv('../data/WHS_SD_rat_atlas_v4_pack/Labels_split.csv')"
   ]
  },
  {
   "cell_type": "code",
   "execution_count": 3,
   "id": "46a3fb3f-93b0-42d4-afc5-336a02d06aa5",
   "metadata": {},
   "outputs": [],
   "source": [
    "region_dict = pd.Series(labels['Region'].values, index=labels['Label']).to_dict()\n",
    "voxel_volume = (0.003906*0.003906*0.003906) #WHS in cm"
   ]
  },
  {
   "cell_type": "markdown",
   "id": "769a63f3-e573-48f4-8848-f104661c34c4",
   "metadata": {},
   "source": [
    "### Calculate stats for each animal"
   ]
  },
  {
   "cell_type": "code",
   "execution_count": 4,
   "id": "adac19b6-bb6f-44a3-95aa-6bd43d8d1b39",
   "metadata": {},
   "outputs": [],
   "source": [
    "tissue_path = '../data/registered_tissues/GM_modulated'\n",
    "out_path = os.path.join(tissue_path, 'stats_csv')\n",
    "os.makedirs(out_path, exist_ok = True)"
   ]
  },
  {
   "cell_type": "code",
   "execution_count": 6,
   "id": "3d4869fc-138c-475c-86e4-f5648161c096",
   "metadata": {},
   "outputs": [
    {
     "name": "stderr",
     "output_type": "stream",
     "text": [
      "100%|█████████████████████████████████████████████████████████████████████████████████████████████████████████████████████████████████████████████████████████████████████████████| 4/4 [00:40<00:00, 10.08s/it]"
     ]
    },
    {
     "data": {
      "text/plain": [
       "<bound method tqdm.close of <tqdm.std.tqdm object at 0x7f0f0a2741a0>>"
      ]
     },
     "execution_count": 6,
     "metadata": {},
     "output_type": "execute_result"
    }
   ],
   "source": [
    "tissue_files = [f.name for f in os.scandir(tissue_path) if f.is_file()]\n",
    "pbar = tqdm(total = len(tissue_files))\n",
    "\n",
    "for file in tissue_files:\n",
    "    file_path = os.path.join(tissue_path, file)\n",
    "    img = ants.image_read(file_path)\n",
    "    stats = ants.label_stats(img, atlas)\n",
    "    regions = stats['LabelValue']\n",
    "    avg = stats['Mean']\n",
    "    sd = np.sqrt(stats['Variance'])\n",
    "    vol = stats['Mass']*voxel_volume\n",
    "    region_names = [region_dict[int(i)] for i in regions]\n",
    "    results = pd.DataFrame({\n",
    "        'RegionNumber': regions,\n",
    "        'RegionName': region_names,\n",
    "        'average': avg,\n",
    "        'sd': sd,\n",
    "        'volume': vol\n",
    "    }, index = None)\n",
    "    results.to_csv(os.path.join(out_path, file.split('.')[0]) + '_stats.csv')\n",
    "    pbar.update(1)\n",
    "pbar.close"
   ]
  }
 ],
 "metadata": {
  "kernelspec": {
   "display_name": "Python 3 (ipykernel)",
   "language": "python",
   "name": "python3"
  },
  "language_info": {
   "codemirror_mode": {
    "name": "ipython",
    "version": 3
   },
   "file_extension": ".py",
   "mimetype": "text/x-python",
   "name": "python",
   "nbconvert_exporter": "python",
   "pygments_lexer": "ipython3",
   "version": "3.13.7"
  }
 },
 "nbformat": 4,
 "nbformat_minor": 5
}
